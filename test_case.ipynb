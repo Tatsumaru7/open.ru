{
 "cells": [
  {
   "cell_type": "code",
   "execution_count": null,
   "metadata": {},
   "outputs": [],
   "source": []
  }
 ],
 "metadata": {
  "kernelspec": {
   "display_name": "Python 3.10.5 64-bit",
   "language": "python",
   "name": "python3"
  },
  "language_info": {
   "name": "python",
   "version": "3.10.5"
  },
  "orig_nbformat": 4,
  "vscode": {
   "interpreter": {
    "hash": "25e37e4d57fae42769f871018383e8f9693d9b32bea07cd56943a6ff8a3fc7f7"
   }
  }
 },
 "nbformat": 4,
 "nbformat_minor": 2
}
